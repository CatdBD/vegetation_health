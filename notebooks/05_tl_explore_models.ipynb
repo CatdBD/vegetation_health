{
 "cells": [
  {
   "cell_type": "code",
   "execution_count": 7,
   "metadata": {},
   "outputs": [],
   "source": [
    "from pathlib import Path\n",
    "from itertools import chain\n",
    "import pandas as pd\n",
    "import numpy as np\n",
    "\n",
    "import json\n",
    "import sys\n",
    "sys.path.insert(0, '..')\n",
    "\n",
    "from predictor.models import LinearModel\n",
    "from predictor.preprocessing import VALUE_COLS, VEGETATION_LABELS\n",
    "from predictor.models import nn_FeedForward\n",
    "from predictor.analysis import plot_shap_values"
   ]
  },
  {
   "cell_type": "code",
   "execution_count": 5,
   "metadata": {},
   "outputs": [],
   "source": [
    "with open('../data/processed/normalizing_dict.json', 'r') as f:\n",
    "    normalizing_dict = json.load(f)\n",
    "    \n",
    "path_to_arrays = Path('../data/processed/arrays')"
   ]
  },
  {
   "cell_type": "code",
   "execution_count": 9,
   "metadata": {},
   "outputs": [
    {
     "data": {
      "text/plain": [
       "<predictor.models.neural_networks.feedforward.FeedForward at 0x1c27a225f8>"
      ]
     },
     "execution_count": 9,
     "metadata": {},
     "output_type": "execute_result"
    }
   ],
   "source": [
    "model = nn_FeedForward(path_to_arrays, hide_vegetation=True)\n",
    "model"
   ]
  },
  {
   "cell_type": "code",
   "execution_count": 10,
   "metadata": {},
   "outputs": [
    {
     "name": "stdout",
     "output_type": "stream",
     "text": [
      "Training model without vegetation features\n"
     ]
    },
    {
     "name": "stderr",
     "output_type": "stream",
     "text": [
      "  0%|          | 0/8175 [00:00<?, ?it/s]"
     ]
    },
    {
     "name": "stdout",
     "output_type": "stream",
     "text": [
      "After split, training on 261593 examples, validating on 29065 examples\n"
     ]
    },
    {
     "name": "stderr",
     "output_type": "stream",
     "text": [
      "100%|██████████| 8175/8175 [00:26<00:00, 305.35it/s]\n",
      "100%|██████████| 909/909 [00:01<00:00, 826.49it/s]\n",
      "  0%|          | 27/8175 [00:00<00:30, 266.30it/s]"
     ]
    },
    {
     "name": "stdout",
     "output_type": "stream",
     "text": [
      "Epoch 0 - Training RMSE: 0.06997232270623566, Validation RMSE: 0.06983803885162074\n"
     ]
    },
    {
     "name": "stderr",
     "output_type": "stream",
     "text": [
      "100%|██████████| 8175/8175 [00:24<00:00, 331.95it/s]\n",
      "100%|██████████| 909/909 [00:01<00:00, 806.22it/s]\n",
      "  0%|          | 26/8175 [00:00<00:32, 252.17it/s]"
     ]
    },
    {
     "name": "stdout",
     "output_type": "stream",
     "text": [
      "Epoch 1 - Training RMSE: 0.05651973409048461, Validation RMSE: 0.06605148216252542\n"
     ]
    },
    {
     "name": "stderr",
     "output_type": "stream",
     "text": [
      "100%|██████████| 8175/8175 [00:25<00:00, 319.95it/s]\n",
      "100%|██████████| 909/909 [00:01<00:00, 792.90it/s]\n",
      "  0%|          | 28/8175 [00:00<00:29, 278.07it/s]"
     ]
    },
    {
     "name": "stdout",
     "output_type": "stream",
     "text": [
      "Epoch 2 - Training RMSE: 0.05542360727917346, Validation RMSE: 0.0645962596365852\n"
     ]
    },
    {
     "name": "stderr",
     "output_type": "stream",
     "text": [
      "100%|██████████| 8175/8175 [00:26<00:00, 304.98it/s]\n",
      "100%|██████████| 909/909 [00:01<00:00, 763.35it/s]\n",
      "  0%|          | 26/8175 [00:00<00:31, 256.86it/s]"
     ]
    },
    {
     "name": "stdout",
     "output_type": "stream",
     "text": [
      "Epoch 3 - Training RMSE: 0.054586497671013576, Validation RMSE: 0.06387223563145752\n"
     ]
    },
    {
     "name": "stderr",
     "output_type": "stream",
     "text": [
      "100%|██████████| 8175/8175 [00:25<00:00, 326.63it/s]\n",
      "100%|██████████| 909/909 [00:01<00:00, 803.46it/s]"
     ]
    },
    {
     "name": "stdout",
     "output_type": "stream",
     "text": [
      "Epoch 4 - Training RMSE: 0.054150071823314425, Validation RMSE: 0.06281156092472333\n"
     ]
    },
    {
     "name": "stderr",
     "output_type": "stream",
     "text": [
      "\n"
     ]
    }
   ],
   "source": [
    "model.train(num_epochs=5)"
   ]
  },
  {
   "cell_type": "code",
   "execution_count": 11,
   "metadata": {},
   "outputs": [
    {
     "name": "stderr",
     "output_type": "stream",
     "text": [
      "100%|██████████| 916/916 [00:01<00:00, 619.96it/s]\n"
     ]
    },
    {
     "name": "stdout",
     "output_type": "stream",
     "text": [
      "Test set RMSE: 0.08204460144042969\n"
     ]
    }
   ],
   "source": [
    "model.evaluate()"
   ]
  },
  {
   "cell_type": "code",
   "execution_count": 12,
   "metadata": {},
   "outputs": [
    {
     "name": "stdout",
     "output_type": "stream",
     "text": [
      "Training model without vegetation features\n"
     ]
    }
   ],
   "source": [
    "background_data = model.load_tensors(mode='train')\n",
    "test_data = model.load_tensors(mode='test')"
   ]
  },
  {
   "cell_type": "code",
   "execution_count": null,
   "metadata": {},
   "outputs": [],
   "source": []
  },
  {
   "cell_type": "code",
   "execution_count": null,
   "metadata": {},
   "outputs": [],
   "source": []
  }
 ],
 "metadata": {
  "kernelspec": {
   "display_name": "Python 3",
   "language": "python",
   "name": "python3"
  },
  "language_info": {
   "codemirror_mode": {
    "name": "ipython",
    "version": 3
   },
   "file_extension": ".py",
   "mimetype": "text/x-python",
   "name": "python",
   "nbconvert_exporter": "python",
   "pygments_lexer": "ipython3",
   "version": "3.7.2"
  }
 },
 "nbformat": 4,
 "nbformat_minor": 2
}
