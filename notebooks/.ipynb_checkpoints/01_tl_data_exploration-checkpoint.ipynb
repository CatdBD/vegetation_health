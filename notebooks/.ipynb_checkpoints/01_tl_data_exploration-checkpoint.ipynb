{
 "cells": [
  {
   "cell_type": "code",
   "execution_count": 13,
   "metadata": {},
   "outputs": [],
   "source": [
    "import xarray as xr\n",
    "import pandas as pd\n",
    "import numpy as np\n",
    "import seaborn as sns\n",
    "import matplotlib.pyplot as plt"
   ]
  },
  {
   "cell_type": "code",
   "execution_count": 5,
   "metadata": {},
   "outputs": [
    {
     "data": {
      "text/plain": [
       "<xarray.Dataset>\n",
       "Dimensions:                 (lat: 404, lon: 316, time: 85)\n",
       "Coordinates:\n",
       "  * time                    (time) datetime64[ns] 2010-01-01 ... 2017-01-01\n",
       "  * lon                     (lon) float32 32.524994 32.574997 ... 48.274994\n",
       "  * lat                     (lat) float32 -4.9750023 -4.925003 ... 15.174995\n",
       "    month                   (time) int64 ...\n",
       "Data variables:\n",
       "    lst_day                 (time, lat, lon) float64 ...\n",
       "    lst_night               (time, lat, lon) float64 ...\n",
       "    lst_mean                (time, lat, lon) float64 ...\n",
       "    evaporation             (time, lat, lon) float64 ...\n",
       "    baresoil_evaporation    (time, lat, lon) float64 ...\n",
       "    potential_evaporation   (time, lat, lon) float64 ...\n",
       "    transpiration           (time, lat, lon) float64 ...\n",
       "    surface_soil_moisture   (time, lat, lon) float64 ...\n",
       "    rootzone_soil_moisture  (time, lat, lon) float64 ...\n",
       "    sm                      (time, lat, lon) float64 ...\n",
       "    precip                  (time, lat, lon) float64 ...\n",
       "    ndvi                    (time, lat, lon) float64 ...\n",
       "    evi                     (time, lat, lon) float64 ...\n",
       "    spei                    (time, lat, lon) float32 ...\n",
       "    spi                     (time, lat, lon) float64 ...\n",
       "    drought_spei            (time, lat, lon) bool ...\n",
       "    drought_spi             (time, lat, lon) bool ...\n",
       "    drought_ndvi            (time, lat, lon) bool ..."
      ]
     },
     "execution_count": 5,
     "metadata": {},
     "output_type": "execute_result"
    }
   ],
   "source": [
    "ds = xr.open_dataset('/Volumes/Lees_Extend/data/ea_data/OUT.nc')\n",
    "ds"
   ]
  },
  {
   "cell_type": "code",
   "execution_count": null,
   "metadata": {},
   "outputs": [
    {
     "name": "stdout",
     "output_type": "stream",
     "text": [
      "3\n",
      "(3, 3)\n",
      "3\n",
      "(3, 3)\n"
     ]
    }
   ],
   "source": [
    "def drop_nans_and_flatten(dataArray):\n",
    "    \"\"\"flatten the array and drop nans from that array. Useful for plotting histograms.\n",
    "    \n",
    "    Arguments:\n",
    "    ---------\n",
    "    : dataArray (xr.DataArray)\n",
    "        the DataArray of your value you want to flatten\n",
    "    \"\"\"\n",
    "    # drop NaNs and flatten\n",
    "    return dataArray.values[~np.isnan(dataArray.values)]\n",
    "\n",
    "\n",
    "def set_no_axs_rows(variables):\n",
    "    \"\"\"Dynamically set the number of axes rows\n",
    "    \n",
    "    Arguments:\n",
    "    ---------\n",
    "    : variables (list)\n",
    "        the variables that we want to plot distributions of\n",
    "    \"\"\"\n",
    "    # Dynamically set the number of ROWS in the subplots\n",
    "    if len(variables) % 3 > 0:\n",
    "        n_axs = (len(variables) // 3) + 1\n",
    "    else:\n",
    "        n_axs = len(variables) // 3\n",
    "    \n",
    "    return n_axs\n",
    "\n",
    "def plot_variables(Dataset, variables):\n",
    "    \"\"\" plot histograms of \n",
    "    \n",
    "    Arguments:\n",
    "    ---------\n",
    "    : Dataset (xr.Dataset)\n",
    "        the dataset holding the variables of interest\n",
    "    : variables (list)\n",
    "        list of str for the labels of the values that you want to plot\n",
    "    \"\"\"\n",
    "    assert all([var_ in [var for var in ds.variables.keys()] for var_ in variables]), f\"The variables supplied must be in the xr.Dataset variables. Currently looking for {variables} in dataset variables: {[var for var in ds.variables.keys()]}\\n The variable missing is: {[var_ in [var for var in ds.variables.keys()] for var_ in variables]}\"\n",
    "    \n",
    "    n_axs = set_no_axs_rows(variables)\n",
    "    fig, axs = plt.subplots(n_axs, 3, figsize=(15,8))\n",
    "    \n",
    "    # plot each of the variables \n",
    "    for ix, var in enumerate(variables):\n",
    "        # get the axes we are plotting on\n",
    "        ax_ix = np.unravel_index(ix+1,(n_axs,3))\n",
    "        ax = axs[ax_ix]\n",
    "        \n",
    "        # flatten array and drop nans from the variable\n",
    "        flat_array = drop_nans_and_flatten(ds[var])\n",
    "        \n",
    "        # plot the histogram for that variable\n",
    "        sns.distplot(flat_array, ax=ax)\n",
    "        ax.set_title(f'{var} Histogram')\n",
    "        \n",
    "    fig.title('Distribution of variable values')\n",
    "    \n",
    "    return fig\n",
    "    \n",
    "variables = [\"ndvi\",\"spi\",\"precip\",\"sm\",\"lst_day\",\"lst_night\",\"lst_mean\"]\n",
    "# variables = [\"ndvi\",\"spi\"]\n",
    "# TODO: why doesn't it work with 2 values?\n",
    "fig = plot_variables(ds, variables)\n",
    "fig.figsave('../figs/variable_distribution.png')"
   ]
  },
  {
   "cell_type": "code",
   "execution_count": 49,
   "metadata": {},
   "outputs": [
    {
     "data": {
      "text/plain": [
       "(0, 1)"
      ]
     },
     "execution_count": 49,
     "metadata": {},
     "output_type": "execute_result"
    }
   ],
   "source": [
    "assert False, \"The following does not work because the unravel index doesn't work for \"\n",
    "\n",
    "variables = [\"ndvi\",\"spi\"]\n",
    "plot_variables(ds, variables)"
   ]
  },
  {
   "cell_type": "code",
   "execution_count": null,
   "metadata": {},
   "outputs": [],
   "source": []
  }
 ],
 "metadata": {
  "kernelspec": {
   "display_name": "Python 3",
   "language": "python",
   "name": "python3"
  },
  "language_info": {
   "codemirror_mode": {
    "name": "ipython",
    "version": 3
   },
   "file_extension": ".py",
   "mimetype": "text/x-python",
   "name": "python",
   "nbconvert_exporter": "python",
   "pygments_lexer": "ipython3",
   "version": "3.7.2"
  }
 },
 "nbformat": 4,
 "nbformat_minor": 2
}
